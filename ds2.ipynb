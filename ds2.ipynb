{
 "cells": [
  {
   "cell_type": "code",
   "execution_count": 6,
   "id": "34691bb3-828e-41dc-8677-1efa8da89109",
   "metadata": {},
   "outputs": [
    {
     "name": "stdout",
     "output_type": "stream",
     "text": [
      "Sum: 14\n",
      "Difference: 2\n",
      "Product: 6600\n",
      "Quotient: 3333.0\n"
     ]
    }
   ],
   "source": [
    "#1.Calculate the sum, difference, product and quotient of two numbers.\n",
    "\n",
    "#Sum \n",
    "print(f\"Sum: {5+9}\")\n",
    "\n",
    "#Difference \n",
    "print(f\"Difference: {11-9}\")\n",
    "\n",
    "#Product\n",
    "print(f\"Product: {100*66}\")\n",
    "\n",
    "#quotient\n",
    "print(f\"Quotient: {9999/3}\")"
   ]
  },
  {
   "cell_type": "code",
   "execution_count": 7,
   "id": "0c474402-719b-488f-ac70-ba4908b7a7b0",
   "metadata": {},
   "outputs": [
    {
     "name": "stdin",
     "output_type": "stream",
     "text": [
      "Please enter one number:  5\n",
      "Please enter Another number:  4\n"
     ]
    },
    {
     "name": "stdout",
     "output_type": "stream",
     "text": [
      "Sum: 9.0\n",
      "Difference: 1.0\n",
      "Product: 20.0\n",
      "Quotient: 1.25\n"
     ]
    }
   ],
   "source": [
    "#2. Perform various assignment operations on a variable\n",
    "\n",
    "a = float(input(\"Please enter one number: \"))\n",
    "b = float(input(\"Please enter Another number: \"))\n",
    "#Sum \n",
    "print(f\"Sum: {a+b}\")\n",
    "\n",
    "#Difference \n",
    "print(f\"Difference: {a-b}\")\n",
    "\n",
    "#Product\n",
    "print(f\"Product: {a*b}\")\n",
    "\n",
    "#quotient\n",
    "print(f\"Quotient: {a/b}\")"
   ]
  },
  {
   "cell_type": "code",
   "execution_count": 8,
   "id": "45177c4e-27a1-4d0c-aa92-1a06cd0c990d",
   "metadata": {},
   "outputs": [
    {
     "name": "stdout",
     "output_type": "stream",
     "text": [
      "False\n"
     ]
    }
   ],
   "source": [
    "#3. Compare two number and print the result\n",
    "\n",
    "print(99<1)"
   ]
  },
  {
   "cell_type": "code",
   "execution_count": 17,
   "id": "0675901a-6c45-4c69-9b5b-9ee0fe71b82b",
   "metadata": {},
   "outputs": [
    {
     "name": "stdin",
     "output_type": "stream",
     "text": [
      "Please enter a number:  55\n",
      "Please enter another number:  55\n"
     ]
    },
    {
     "name": "stdout",
     "output_type": "stream",
     "text": [
      "55.0 is equal to 55.0\n"
     ]
    }
   ],
   "source": [
    "#4. Check conditions using logical operators.\n",
    "\n",
    "num_1 = float(input(\"Please enter a number: \"))\n",
    "num_2 = float(input(\"Please enter another number: \"))\n",
    "\n",
    "if num_1 > num_2:\n",
    "    print(f\"{num_1} is greater than {num_2}.\")\n",
    "elif num_1 == num_2:\n",
    "    print(f\"{num_1} is equal to {num_2}\")\n",
    "else:\n",
    "    print(f\"{num_1} is smaller than {num_2}.\")"
   ]
  },
  {
   "cell_type": "code",
   "execution_count": 15,
   "id": "cb6e3dce-5e22-47cf-8ad5-b87b45566eee",
   "metadata": {},
   "outputs": [
    {
     "name": "stdout",
     "output_type": "stream",
     "text": [
      "140636653126544\n"
     ]
    }
   ],
   "source": [
    "#5. Check the identity of variables.\n",
    "var = 22\n",
    "identity = id(var)\n",
    "print(identity)"
   ]
  },
  {
   "cell_type": "code",
   "execution_count": 29,
   "id": "2212f389-62a5-4cbe-a123-b08990073c7b",
   "metadata": {},
   "outputs": [
    {
     "name": "stdout",
     "output_type": "stream",
     "text": [
      "5\n",
      "2\n",
      "-3 -6\n"
     ]
    }
   ],
   "source": [
    "# 6.Perform a bitwise operations on any two integers.\n",
    "int1 = 2\n",
    "int2 = 5\n",
    "\n",
    "print(int1 and int2)\n",
    "print(int1 or int2)\n",
    "print(~int1, ~int2)"
   ]
  },
  {
   "cell_type": "code",
   "execution_count": 23,
   "id": "f40d29ae-06e1-488d-95bf-a012656cef5f",
   "metadata": {},
   "outputs": [
    {
     "name": "stdout",
     "output_type": "stream",
     "text": [
      "-99\n"
     ]
    }
   ],
   "source": [
    "#7. Use unary operators to change the sign of a number. \n",
    "num = 99\n",
    "\n",
    "unary = -99\n",
    "\n",
    "print(unary)"
   ]
  },
  {
   "cell_type": "code",
   "execution_count": 28,
   "id": "0324ce81-c2fd-4940-8b2c-d42f2bb009a3",
   "metadata": {},
   "outputs": [
    {
     "name": "stdout",
     "output_type": "stream",
     "text": [
      "20\n"
     ]
    }
   ],
   "source": [
    "#8. Use ternary operators to assign values based on conditions. \n",
    "\n",
    "a,b = 10, 20\n",
    "\n",
    "c = a if a > b else b \n",
    "\n",
    "print(c)"
   ]
  }
 ],
 "metadata": {
  "kernelspec": {
   "display_name": "Python 3 (ipykernel)",
   "language": "python",
   "name": "python3"
  },
  "language_info": {
   "codemirror_mode": {
    "name": "ipython",
    "version": 3
   },
   "file_extension": ".py",
   "mimetype": "text/x-python",
   "name": "python",
   "nbconvert_exporter": "python",
   "pygments_lexer": "ipython3",
   "version": "3.10.8"
  }
 },
 "nbformat": 4,
 "nbformat_minor": 5
}
